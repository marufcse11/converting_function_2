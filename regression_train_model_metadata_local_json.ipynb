{
  "nbformat": 4,
  "nbformat_minor": 0,
  "metadata": {
    "colab": {
      "provenance": [],
      "authorship_tag": "ABX9TyOfr0XkbGU6WQ4zK6k+X1P4",
      "include_colab_link": true
    },
    "kernelspec": {
      "name": "python3",
      "display_name": "Python 3"
    },
    "language_info": {
      "name": "python"
    }
  },
  "cells": [
    {
      "cell_type": "markdown",
      "metadata": {
        "id": "view-in-github",
        "colab_type": "text"
      },
      "source": [
        "<a href=\"https://colab.research.google.com/github/marufcse11/converting_function_2/blob/main/regression_train_model_metadata_local_json.ipynb\" target=\"_parent\"><img src=\"https://colab.research.google.com/assets/colab-badge.svg\" alt=\"Open In Colab\"/></a>"
      ]
    },
    {
      "cell_type": "code",
      "execution_count": 3,
      "metadata": {
        "id": "LU-s8kpZcbl-",
        "colab": {
          "base_uri": "https://localhost:8080/",
          "height": 131
        },
        "outputId": "fa6ee038-9e08-4f59-97bc-711dcaa78be0"
      },
      "outputs": [
        {
          "output_type": "error",
          "ename": "SyntaxError",
          "evalue": "ignored",
          "traceback": [
            "\u001b[0;36m  File \u001b[0;32m\"<ipython-input-3-6d0c5579319a>\"\u001b[0;36m, line \u001b[0;32m9\u001b[0m\n\u001b[0;31m    [ \"read_file\", boston = get_data('boston') ]\u001b[0m\n\u001b[0m                   ^\u001b[0m\n\u001b[0;31mSyntaxError\u001b[0m\u001b[0;31m:\u001b[0m invalid syntax. Maybe you meant '==' or ':=' instead of '='?\n"
          ]
        }
      ],
      "source": [
        "{\n",
        "  \"inputs\": {\n",
        "    \"target\": [ \"medv\" ],\n",
        "    \"train_size\": [ \"0.8\" ],\n",
        "    \"estimator_name\": [\"lr\"],\n",
        "    \"regression_train_input_data\": [\n",
        "      \"compute\",\n",
        "      [ \"read_file\", \"output.csv\" ]\n",
        "      [ \"decode_utf8\" ],\n",
        "      [ \"csv_string_to_pd_df\" ]\n",
        "    ]\n",
        "  },\n",
        "  \"outputs\": {\n",
        "    \"regression_train_output_data\": [\n",
        "      [ \"spark_df_to_pd_df\" ],\n",
        "      [ \"pd_df_to_csv_string\" ],\n",
        "      [ \"encode_utf8\" ],\n",
        "      [ \"write_file\", \"ads_regression.ads_output_data.csv\" ]\n",
        "    ],\n",
        "    \"regression_train_metrics_viz\": [\n",
        "      [ \"pd_df_to_csv_string\" ],\n",
        "      [ \"encode_utf8\" ],\n",
        "      [ \"write_file\", \"ads_regression.ads_viz_metrics.csv\" ]\n",
        "    ]\n",
        "  },\n",
        "  \"functionMetadata\": {\n",
        "    \"pythonModule\": \"Models.templates.examples.regression_train_model\",\n",
        "    \"spark\": false\n",
        "  },\n",
        "  \"context\": {\n",
        "    \"solutionId\": \"6934f538-1b81-4845-bc17-a773515a5d1c\",\n",
        "    \"actionId\": \"action-1\",\n",
        "    \"executionId\": \"1a442df9-eab9-43e7-a8ea-9f19d84442c1\"\n",
        "  }\n",
        "}"
      ]
    }
  ]
}
