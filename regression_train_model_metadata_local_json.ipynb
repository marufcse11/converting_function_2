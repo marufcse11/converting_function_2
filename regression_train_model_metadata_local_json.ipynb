{
  "nbformat": 4,
  "nbformat_minor": 0,
  "metadata": {
    "colab": {
      "provenance": [],
      "include_colab_link": true
    },
    "kernelspec": {
      "name": "python3",
      "display_name": "Python 3"
    },
    "language_info": {
      "name": "python"
    }
  },
  "cells": [
    {
      "cell_type": "markdown",
      "metadata": {
        "id": "view-in-github",
        "colab_type": "text"
      },
      "source": [
        "<a href=\"https://colab.research.google.com/github/marufcse11/converting_function_2/blob/main/regression_train_model_metadata_local_json.ipynb\" target=\"_parent\"><img src=\"https://colab.research.google.com/assets/colab-badge.svg\" alt=\"Open In Colab\"/></a>"
      ]
    },
    {
      "cell_type": "code",
      "execution_count": 2,
      "metadata": {
        "id": "LU-s8kpZcbl-",
        "colab": {
          "base_uri": "https://localhost:8080/"
        },
        "outputId": "ae5a7232-e6ba-4c67-b3d8-4aa966356eda"
      },
      "outputs": [
        {
          "output_type": "execute_result",
          "data": {
            "text/plain": [
              "{'inputs': {'target': ['medv'],\n",
              "  'train_size': ['0.8'],\n",
              "  'estimator_name': ['lr'],\n",
              "  'regression_train_input_data': ['compute',\n",
              "   ['read_file', 'output.csv'],\n",
              "   ['decode_utf8'],\n",
              "   ['csv_string_to_pd_df']]},\n",
              " 'outputs': {'regression_train_output_data': [['spark_df_to_pd_df'],\n",
              "   ['pd_df_to_csv_string'],\n",
              "   ['encode_utf8'],\n",
              "   ['write_file', 'ads_regression.ads_output_data.csv']],\n",
              "  'regression_train_metrics_viz': [['pd_df_to_csv_string'],\n",
              "   ['encode_utf8'],\n",
              "   ['write_file', 'ads_regression.ads_viz_metrics.csv']]},\n",
              " 'functionMetadata': {'pythonModule': 'marufcse11.converting_function_2.blob.main.converting_function%20(1)'},\n",
              " 'context': {'solutionId': '6934f538-1b81-4845-bc17-a773515a5d1c',\n",
              "  'actionId': 'action-1',\n",
              "  'executionId': '1a442df9-eab9-43e7-a8ea-9f19d84442c1'}}"
            ]
          },
          "metadata": {},
          "execution_count": 2
        }
      ],
      "source": [
        "{\n",
        "  \"inputs\": {\n",
        "    \"target\": [ \"medv\" ],\n",
        "    \"train_size\": [ \"0.8\" ],# delete\n",
        "    \"estimator_name\": [\"lr\"], # delete\n",
        "    \"regression_train_input_data\": [\n",
        "      \"compute\",\n",
        "      [ \"read_file\", \"output.csv\" ],\n",
        "      [ \"decode_utf8\" ],\n",
        "      [ \"csv_string_to_pd_df\" ]\n",
        "    ]\n",
        "  },\n",
        "  \"outputs\": {\n",
        "    \"regression_train_output_data\": [\n",
        "      [ \"spark_df_to_pd_df\" ],\n",
        "      [ \"pd_df_to_csv_string\" ],\n",
        "      [ \"encode_utf8\" ],\n",
        "      [ \"write_file\", \"ads_regression.ads_output_data.csv\" ]\n",
        "    ],\n",
        "    \"regression_train_metrics_viz\": [\n",
        "      [ \"pd_df_to_csv_string\" ],\n",
        "      [ \"encode_utf8\" ],\n",
        "      [ \"write_file\", \"ads_regression.ads_viz_metrics.csv\" ]\n",
        "    ]\n",
        "  },\n",
        "  \"functionMetadata\": {\n",
        "    \"pythonModule\": \"marufcse11.converting_function_2.blob.main.converting_function%20(1)\",\n",
        "    # \"spark\": false\n",
        "  },\n",
        "  \"context\": {\n",
        "    \"solutionId\": \"6934f538-1b81-4845-bc17-a773515a5d1c\",\n",
        "    \"actionId\": \"action-1\",\n",
        "    \"executionId\": \"1a442df9-eab9-43e7-a8ea-9f19d84442c1\"\n",
        "  }\n",
        "}"
      ]
    }
  ]
}