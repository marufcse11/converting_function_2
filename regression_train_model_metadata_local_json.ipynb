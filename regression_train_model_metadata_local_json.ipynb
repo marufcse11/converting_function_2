{
  "nbformat": 4,
  "nbformat_minor": 0,
  "metadata": {
    "colab": {
      "provenance": [],
      "include_colab_link": true
    },
    "kernelspec": {
      "name": "python3",
      "display_name": "Python 3"
    },
    "language_info": {
      "name": "python"
    }
  },
  "cells": [
    {
      "cell_type": "markdown",
      "metadata": {
        "id": "view-in-github",
        "colab_type": "text"
      },
      "source": [
        "<a href=\"https://colab.research.google.com/github/marufcse11/converting_function_2/blob/main/regression_train_model_metadata_local_json.ipynb\" target=\"_parent\"><img src=\"https://colab.research.google.com/assets/colab-badge.svg\" alt=\"Open In Colab\"/></a>"
      ]
    },
    {
      "cell_type": "code",
      "execution_count": 12,
      "metadata": {
        "id": "LU-s8kpZcbl-",
        "colab": {
          "base_uri": "https://localhost:8080/",
          "height": 236
        },
        "outputId": "696cdfb4-f7e8-4eb0-ee11-888dc019376b"
      },
      "outputs": [
        {
          "output_type": "error",
          "ename": "NameError",
          "evalue": "ignored",
          "traceback": [
            "\u001b[0;31m---------------------------------------------------------------------------\u001b[0m",
            "\u001b[0;31mNameError\u001b[0m                                 Traceback (most recent call last)",
            "\u001b[0;32m<ipython-input-12-da3ad7080de5>\u001b[0m in \u001b[0;36m<cell line: 3>\u001b[0;34m()\u001b[0m\n\u001b[1;32m     26\u001b[0m   \"functionMetadata\": {\n\u001b[1;32m     27\u001b[0m     \u001b[0;34m\"pythonModule\"\u001b[0m\u001b[0;34m:\u001b[0m \u001b[0;34m\"github.com.marufcse11.converting_function_2.blob.main.converting_function%20(1)\"\u001b[0m\u001b[0;34m,\u001b[0m\u001b[0;34m\u001b[0m\u001b[0;34m\u001b[0m\u001b[0m\n\u001b[0;32m---> 28\u001b[0;31m     \u001b[0;34m\"spark\"\u001b[0m\u001b[0;34m:\u001b[0m \u001b[0mfalse\u001b[0m\u001b[0;34m\u001b[0m\u001b[0;34m\u001b[0m\u001b[0m\n\u001b[0m\u001b[1;32m     29\u001b[0m   },\n\u001b[1;32m     30\u001b[0m   \"context\": {\n",
            "\u001b[0;31mNameError\u001b[0m: name 'false' is not defined"
          ]
        }
      ],
      "source": [
        "{\n",
        "  \"inputs\": {\n",
        "    \"target\": [ \"medv\" ],\n",
        "    \"train_size\": [ \"0.8\" ],\n",
        "    \"estimator_name\": [\"lr\"],\n",
        "    \"regression_train_input_data\": [\n",
        "      \"compute\",\n",
        "      [ \"read_file\", \"output.csv\" ],\n",
        "      [ \"decode_utf8\" ],\n",
        "      [ \"csv_string_to_pd_df\" ]\n",
        "    ]\n",
        "  },\n",
        "  \"outputs\": {\n",
        "    \"regression_train_output_data\": [\n",
        "      [ \"spark_df_to_pd_df\" ],\n",
        "      [ \"pd_df_to_csv_string\" ],\n",
        "      [ \"encode_utf8\" ],\n",
        "      [ \"write_file\", \"ads_regression.ads_output_data.csv\" ]\n",
        "    ],\n",
        "    \"regression_train_metrics_viz\": [\n",
        "      [ \"pd_df_to_csv_string\" ],\n",
        "      [ \"encode_utf8\" ],\n",
        "      [ \"write_file\", \"ads_regression.ads_viz_metrics.csv\" ]\n",
        "    ]\n",
        "  },\n",
        "  \"functionMetadata\": {\n",
        "    \"pythonModule\": \"github.com.marufcse11.converting_function_2.blob.main.converting_function%20(1)\",\n",
        "    \"spark\": false\n",
        "  },\n",
        "  \"context\": {\n",
        "    \"solutionId\": \"6934f538-1b81-4845-bc17-a773515a5d1c\",\n",
        "    \"actionId\": \"action-1\",\n",
        "    \"executionId\": \"1a442df9-eab9-43e7-a8ea-9f19d84442c1\"\n",
        "  }\n",
        "}"
      ]
    }
  ]
}